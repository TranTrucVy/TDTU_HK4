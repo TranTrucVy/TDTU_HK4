{
  "nbformat": 4,
  "nbformat_minor": 0,
  "metadata": {
    "colab": {
      "provenance": []
    },
    "kernelspec": {
      "name": "python3",
      "display_name": "Python 3"
    },
    "language_info": {
      "name": "python"
    }
  },
  "cells": [
    {
      "cell_type": "code",
      "source": [
        "!pip install python-sat==0.1.7.dev12\n",
        "!pip install colorama"
      ],
      "metadata": {
        "id": "fpZOIZgLRRoH"
      },
      "execution_count": null,
      "outputs": []
    },
    {
      "cell_type": "code",
      "source": [
        "from itertools import product, combinations\n",
        "from pysat.solvers import Glucose3\n",
        "from colorama import Back\n",
        "import os\n",
        "\n",
        "\n",
        "def load_from_file(filename):\n",
        "    res = []\n",
        "    if os.path.exists(filename):\n",
        "        with open(filename) as g:\n",
        "            m, n = [int(it) for it in g.readline().split()]\n",
        "            for line in g:\n",
        "                res.append([int(it) if it != '.' else -1 for it in line.strip().split()])\n",
        "    \n",
        "    return m, n, res\n",
        "\n",
        "def bioconditional(p,q):\n",
        "    return p == q\n",
        "\n",
        "def ands(data_set):\n",
        "    return not(False in data_set)\n",
        "\n",
        "def get_adjacent_cells(i, j, m, n):\n",
        "    # Returns a list of adjacent cell coordinates for cell (i,j)\n",
        "    return [(x*n + y) + 1 for x, y in product(range(i-1, i+2), range(j-1, j+2))\n",
        "            if 0 <= x < m and 0 <= y < n]\n",
        "\n",
        "def generate_p_bicondition_q(adjacent_cells, cell_number):\n",
        "    p = list(combinations(adjacent_cells, cell_number))\n",
        "    q = []\n",
        "    for k in p:\n",
        "        q.append([-1 * x for x in list(filter(lambda x: x not in k, adjacent_cells))])\n",
        "    \n",
        "    return p, q\n",
        "\n",
        "def print_result(model, matrix):\n",
        "    m = len(matrix)\n",
        "    n = len(matrix[0])\n",
        "\n",
        "    for i in range(m):\n",
        "        for j in range(n):\n",
        "            if matrix[i][j] != -1:\n",
        "                if ((i*n + j) + 1) in model:\n",
        "                    print(Back.GREEN + str(matrix[i][j]), end=' ')\n",
        "                else:\n",
        "                    print(Back.RED + str(matrix[i][j]), end=' ')\n",
        "            else:\n",
        "                if ((i*n + j) + 1) in model:\n",
        "                    print(Back.GREEN + ' ', end=' ')\n",
        "                else:\n",
        "                    print(Back.RED + ' ', end=' ')\n",
        "        print()\n",
        "\n",
        "def main():\n",
        "    m, n, matrix = load_from_file('./input.txt')\n",
        "\n",
        "    g = Glucose3()\n",
        "\n",
        "    # Glucose syntax\n",
        "    # [\n",
        "    #     [1,-2,3], # clause \n",
        "    #     [4,-5,6], # and\n",
        "    # ]\n",
        "\n",
        "    for i in range(m):\n",
        "        for j in range(n):\n",
        "            cell_number = matrix[i][j]\n",
        "            if cell_number >= 0:\n",
        "                adjacent_cells = get_adjacent_cells(i, j , m, n)\n",
        "                truth_table = list(product([True,False],repeat = len(adjacent_cells)))\n",
        "                p, q = generate_p_bicondition_q(adjacent_cells, cell_number)\n",
        "                for index in range(len(p)):\n",
        "                    for row in truth_table:\n",
        "                        truth_p = list(row[:cell_number])\n",
        "                        truth_q = list(row[cell_number:])\n",
        "                        \n",
        "                        if bioconditional(ands(truth_p), ands([(not x) for x in truth_q])) == False:\n",
        "                            all_literals = list(p[index]) + [-1 * x for x in q[index]]\n",
        "                            clause = [lit if row[pos] == False else -1 * lit for pos, lit in enumerate(all_literals)]\n",
        "                            g.add_clause(clause)\n",
        "\n",
        "    if g.solve():\n",
        "        print_result(g.get_model(), matrix)\n",
        "    else:\n",
        "        print(\"Can't solve.\")\n",
        "\n",
        "\n",
        "if (__name__ == \"__main__\"):\n",
        "    main()\n"
      ],
      "metadata": {
        "id": "9I-_JzCzKHwK"
      },
      "execution_count": null,
      "outputs": []
    }
  ]
}